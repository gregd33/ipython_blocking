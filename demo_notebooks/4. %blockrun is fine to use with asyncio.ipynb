{
 "cells": [
  {
   "cell_type": "markdown",
   "metadata": {},
   "source": [
    "This example just shows that `%blockrun` is fine to use with native `asyncio` in a notebook.  `ipython_blocking` isn't actually doing any kind of blocking at the kernel level, it is just stopping `execute_request` messages from being sent to the kernel during the 'blocking' period."
   ]
  },
  {
   "cell_type": "code",
   "execution_count": null,
   "metadata": {
    "ExecuteTime": {
     "end_time": "2019-04-13T14:45:59.777339Z",
     "start_time": "2019-04-13T14:45:59.772462Z"
    }
   },
   "outputs": [],
   "source": [
    "# sys.path hack to make /demo_notebooks import from /ipython_blocking in Binder\n",
    "import os\n",
    "import sys\n",
    "module_path = os.path.abspath(os.path.join('..'))\n",
    "if module_path not in sys.path:\n",
    "    sys.path.append(module_path)"
   ]
  },
  {
   "cell_type": "code",
   "execution_count": null,
   "metadata": {
    "ExecuteTime": {
     "end_time": "2019-04-13T14:45:59.938724Z",
     "start_time": "2019-04-13T14:45:59.931896Z"
    }
   },
   "outputs": [],
   "source": [
    "import ipywidgets as widgets\n",
    "import ipython_blocking "
   ]
  },
  {
   "cell_type": "code",
   "execution_count": null,
   "metadata": {
    "ExecuteTime": {
     "end_time": "2019-04-13T14:46:13.635573Z",
     "start_time": "2019-04-13T14:46:13.628747Z"
    }
   },
   "outputs": [],
   "source": [
    "out = widgets.Output()\n",
    "out"
   ]
  },
  {
   "cell_type": "code",
   "execution_count": null,
   "metadata": {
    "ExecuteTime": {
     "end_time": "2019-04-13T14:46:31.477786Z",
     "start_time": "2019-04-13T14:46:31.468029Z"
    }
   },
   "outputs": [],
   "source": [
    "import asyncio\n",
    "from IPython.display import clear_output\n",
    "\n",
    "async def continual_printer():\n",
    "    i = 0\n",
    "    while True:\n",
    "        with out:\n",
    "            clear_output()\n",
    "            print(\"Continual printer on iteration %s\" % i)\n",
    "        await asyncio.sleep(1)\n",
    "        i += 1\n",
    "        \n",
    "asyncio.create_task(continual_printer())"
   ]
  },
  {
   "cell_type": "code",
   "execution_count": null,
   "metadata": {
    "ExecuteTime": {
     "end_time": "2019-04-13T14:46:38.605485Z",
     "start_time": "2019-04-13T14:46:38.589879Z"
    }
   },
   "outputs": [],
   "source": [
    "text_box = widgets.Text()\n",
    "run_button = widgets.Button(description='Run', button_style='success')\n",
    "box = widgets.VBox(children=[text_box, run_button])\n",
    "box"
   ]
  },
  {
   "cell_type": "code",
   "execution_count": null,
   "metadata": {
    "ExecuteTime": {
     "end_time": "2019-04-13T14:46:47.372719Z",
     "start_time": "2019-04-13T14:46:47.368817Z"
    }
   },
   "outputs": [],
   "source": [
    "%blockrun run_button"
   ]
  },
  {
   "cell_type": "code",
   "execution_count": null,
   "metadata": {
    "ExecuteTime": {
     "end_time": "2019-04-13T14:46:47.469485Z",
     "start_time": "2019-04-13T14:46:47.373694Z"
    }
   },
   "outputs": [],
   "source": [
    "async def widget_printer():\n",
    "    print(text_box.value)"
   ]
  },
  {
   "cell_type": "code",
   "execution_count": null,
   "metadata": {
    "ExecuteTime": {
     "end_time": "2019-04-13T14:46:47.545613Z",
     "start_time": "2019-04-13T14:46:47.471432Z"
    }
   },
   "outputs": [],
   "source": [
    "coro = widget_printer()\n",
    "coro"
   ]
  },
  {
   "cell_type": "code",
   "execution_count": null,
   "metadata": {
    "ExecuteTime": {
     "end_time": "2019-04-13T14:46:47.642528Z",
     "start_time": "2019-04-13T14:46:47.549502Z"
    }
   },
   "outputs": [],
   "source": [
    "await coro"
   ]
  },
  {
   "cell_type": "code",
   "execution_count": null,
   "metadata": {},
   "outputs": [],
   "source": []
  }
 ],
 "metadata": {
  "kernelspec": {
   "display_name": "Python3.6",
   "language": "python",
   "name": "py36"
  },
  "language_info": {
   "codemirror_mode": {
    "name": "ipython",
    "version": 3
   },
   "file_extension": ".py",
   "mimetype": "text/x-python",
   "name": "python",
   "nbconvert_exporter": "python",
   "pygments_lexer": "ipython3",
   "version": "3.7.2"
  },
  "toc": {
   "base_numbering": 1,
   "nav_menu": {},
   "number_sections": true,
   "sideBar": true,
   "skip_h1_title": false,
   "title_cell": "Table of Contents",
   "title_sidebar": "Contents",
   "toc_cell": false,
   "toc_position": {},
   "toc_section_display": true,
   "toc_window_display": false
  }
 },
 "nbformat": 4,
 "nbformat_minor": 2
}
