{
 "cells": [
  {
   "cell_type": "markdown",
   "metadata": {},
   "source": [
    "`%blockrun` is the most common way to use `ipython_blocking`.  The `%blockrun` magic will capture and 'throw away' all of the cell execution from a `cell -> run all` action but will attach a handler to the `ipywidgets.Button` object you pass in to `%blockrun` so that it effectively does a `cell -> run all below` when the button is clicked.\n",
    "\n",
    "The end effect is that a Notebook feels like it's \"blocking\" until you click the `Button` then runs all cells below, even when you make a `cell -> run all` action."
   ]
  },
  {
   "cell_type": "code",
   "execution_count": null,
   "metadata": {
    "ExecuteTime": {
     "end_time": "2019-04-13T14:18:18.795284Z",
     "start_time": "2019-04-13T14:18:18.790406Z"
    }
   },
   "outputs": [],
   "source": [
    "# sys.path hack to make /demo_notebooks import from /ipython_blocking in Binder\n",
    "import os\n",
    "import sys\n",
    "module_path = os.path.abspath(os.path.join('..'))\n",
    "if module_path not in sys.path:\n",
    "    sys.path.append(module_path)"
   ]
  },
  {
   "cell_type": "code",
   "execution_count": null,
   "metadata": {
    "ExecuteTime": {
     "end_time": "2019-04-13T14:18:19.133861Z",
     "start_time": "2019-04-13T14:18:19.127021Z"
    }
   },
   "outputs": [],
   "source": [
    "import ipywidgets as widgets\n",
    "import ipython_blocking # enables %block and %blockrun magic on import"
   ]
  },
  {
   "cell_type": "code",
   "execution_count": null,
   "metadata": {
    "ExecuteTime": {
     "end_time": "2019-04-13T14:18:19.613357Z",
     "start_time": "2019-04-13T14:18:19.597752Z"
    }
   },
   "outputs": [],
   "source": [
    "text_box = widgets.Text()\n",
    "run_button = widgets.Button(description='Run', button_style='success')\n",
    "box = widgets.VBox(children=[text_box, run_button])\n",
    "box"
   ]
  },
  {
   "cell_type": "code",
   "execution_count": null,
   "metadata": {
    "ExecuteTime": {
     "end_time": "2019-04-13T14:18:28.230048Z",
     "start_time": "2019-04-13T14:18:28.226146Z"
    }
   },
   "outputs": [],
   "source": [
    "%blockrun run_button"
   ]
  },
  {
   "cell_type": "code",
   "execution_count": null,
   "metadata": {
    "ExecuteTime": {
     "end_time": "2019-04-13T14:18:28.376815Z",
     "start_time": "2019-04-13T14:18:28.231023Z"
    }
   },
   "outputs": [],
   "source": [
    "value = text_box.value\n",
    "print(value)"
   ]
  },
  {
   "cell_type": "code",
   "execution_count": null,
   "metadata": {
    "ExecuteTime": {
     "end_time": "2019-04-13T14:20:07.803150Z",
     "start_time": "2019-04-13T14:20:07.799249Z"
    }
   },
   "outputs": [],
   "source": [
    "print('more linear workflow here')"
   ]
  },
  {
   "cell_type": "code",
   "execution_count": null,
   "metadata": {},
   "outputs": [],
   "source": []
  }
 ],
 "metadata": {
  "kernelspec": {
   "display_name": "Python3.6",
   "language": "python",
   "name": "py36"
  },
  "language_info": {
   "codemirror_mode": {
    "name": "ipython",
    "version": 3
   },
   "file_extension": ".py",
   "mimetype": "text/x-python",
   "name": "python",
   "nbconvert_exporter": "python",
   "pygments_lexer": "ipython3",
   "version": "3.7.2"
  },
  "toc": {
   "base_numbering": 1,
   "nav_menu": {},
   "number_sections": true,
   "sideBar": true,
   "skip_h1_title": false,
   "title_cell": "Table of Contents",
   "title_sidebar": "Contents",
   "toc_cell": false,
   "toc_position": {},
   "toc_section_display": true,
   "toc_window_display": false
  },
  "widgets": {
   "application/vnd.jupyter.widget-state+json": {
    "state": {
     "18e12e81064148e5918d67982a89fad4": {
      "model_module": "@jupyter-widgets/base",
      "model_module_version": "1.1.0",
      "model_name": "LayoutModel",
      "state": {}
     },
     "1ace861a8169425d8dca469faa871204": {
      "model_module": "@jupyter-widgets/controls",
      "model_module_version": "1.4.0",
      "model_name": "ButtonStyleModel",
      "state": {}
     },
     "1c5682c3e0544164813c5d73c48771b4": {
      "model_module": "@jupyter-widgets/controls",
      "model_module_version": "1.4.0",
      "model_name": "TextModel",
      "state": {
       "layout": "IPY_MODEL_8f48b43e39f6416cb1454ff4de33cc68",
       "style": "IPY_MODEL_689b9f4a9ccb40ccafc3349fc4c2fe19",
       "value": "def"
      }
     },
     "20ac88949c414a0c9311938a44fdb6bc": {
      "model_module": "@jupyter-widgets/base",
      "model_module_version": "1.1.0",
      "model_name": "LayoutModel",
      "state": {}
     },
     "215541f80bab41cf960880cd54336571": {
      "model_module": "@jupyter-widgets/controls",
      "model_module_version": "1.4.0",
      "model_name": "TextModel",
      "state": {
       "layout": "IPY_MODEL_93159c037ca6464b9e3de4d45db6c19f",
       "style": "IPY_MODEL_d414734e9a954208ba92aa1ecf9e13ce",
       "value": "foo"
      }
     },
     "2191d7e8459f4afc91dc0f51a932116c": {
      "model_module": "@jupyter-widgets/base",
      "model_module_version": "1.1.0",
      "model_name": "LayoutModel",
      "state": {}
     },
     "33707a96e0a3458f89ecce4ebab3c540": {
      "model_module": "@jupyter-widgets/controls",
      "model_module_version": "1.4.0",
      "model_name": "TextModel",
      "state": {
       "layout": "IPY_MODEL_78b1d253e55e4648b222f28df87562cc",
       "style": "IPY_MODEL_d64fb4b6a2d542dc8d76cfd833da1d98"
      }
     },
     "35019a24c4c1427282f4e03f2db64bc1": {
      "model_module": "@jupyter-widgets/base",
      "model_module_version": "1.1.0",
      "model_name": "LayoutModel",
      "state": {}
     },
     "36ad6ea4986947559fd78aeade4e0204": {
      "model_module": "@jupyter-widgets/controls",
      "model_module_version": "1.4.0",
      "model_name": "ButtonModel",
      "state": {
       "button_style": "success",
       "description": "Run",
       "layout": "IPY_MODEL_20ac88949c414a0c9311938a44fdb6bc",
       "style": "IPY_MODEL_caf6180f6f5843f6912ad799f0d8da35"
      }
     },
     "3763f654da434ff68e5bab2708e19fde": {
      "model_module": "@jupyter-widgets/base",
      "model_module_version": "1.1.0",
      "model_name": "LayoutModel",
      "state": {}
     },
     "3ee5d412c4d54914b847a81967da06a6": {
      "model_module": "@jupyter-widgets/base",
      "model_module_version": "1.1.0",
      "model_name": "LayoutModel",
      "state": {}
     },
     "582e6d2bb91a4868b3bfed7dd497ba38": {
      "model_module": "@jupyter-widgets/base",
      "model_module_version": "1.1.0",
      "model_name": "LayoutModel",
      "state": {}
     },
     "689b9f4a9ccb40ccafc3349fc4c2fe19": {
      "model_module": "@jupyter-widgets/controls",
      "model_module_version": "1.4.0",
      "model_name": "DescriptionStyleModel",
      "state": {
       "description_width": ""
      }
     },
     "6f5c6a67af384f8f8c6ef39a6a72056e": {
      "model_module": "@jupyter-widgets/controls",
      "model_module_version": "1.4.0",
      "model_name": "ButtonStyleModel",
      "state": {}
     },
     "782723d73e2a4e7582200bb3eaccaf00": {
      "model_module": "@jupyter-widgets/controls",
      "model_module_version": "1.4.0",
      "model_name": "TextModel",
      "state": {
       "layout": "IPY_MODEL_7d02d622c6cf4e6d8346ebe8dd9335c0",
       "style": "IPY_MODEL_fb2f2fde7819414a96cdc6c6f67ef0d1",
       "value": "foo"
      }
     },
     "78b1d253e55e4648b222f28df87562cc": {
      "model_module": "@jupyter-widgets/base",
      "model_module_version": "1.1.0",
      "model_name": "LayoutModel",
      "state": {}
     },
     "7d02d622c6cf4e6d8346ebe8dd9335c0": {
      "model_module": "@jupyter-widgets/base",
      "model_module_version": "1.1.0",
      "model_name": "LayoutModel",
      "state": {}
     },
     "7e7ffb5bca544c41a82af3e74bacae10": {
      "model_module": "@jupyter-widgets/controls",
      "model_module_version": "1.4.0",
      "model_name": "ButtonModel",
      "state": {
       "button_style": "success",
       "description": "Run",
       "layout": "IPY_MODEL_e53a99b774274a1d8aaf45f6bf330a64",
       "style": "IPY_MODEL_1ace861a8169425d8dca469faa871204"
      }
     },
     "8d73b7eb14a04c55b53d377ebafbbd73": {
      "model_module": "@jupyter-widgets/controls",
      "model_module_version": "1.4.0",
      "model_name": "VBoxModel",
      "state": {
       "children": [
        "IPY_MODEL_c4542ed478d246369426f278d06029b8",
        "IPY_MODEL_fbdac1a78b4146639a33ccb402ae3393"
       ],
       "layout": "IPY_MODEL_3ee5d412c4d54914b847a81967da06a6"
      }
     },
     "8f48b43e39f6416cb1454ff4de33cc68": {
      "model_module": "@jupyter-widgets/base",
      "model_module_version": "1.1.0",
      "model_name": "LayoutModel",
      "state": {}
     },
     "92c31db46f594d1ea2ffd96fe4a90301": {
      "model_module": "@jupyter-widgets/controls",
      "model_module_version": "1.4.0",
      "model_name": "ButtonModel",
      "state": {
       "button_style": "success",
       "description": "Run",
       "layout": "IPY_MODEL_e6ee86469aa6441da927a5ea07afec31",
       "style": "IPY_MODEL_db0642c5235d43d28a88e515c5a401cd"
      }
     },
     "93159c037ca6464b9e3de4d45db6c19f": {
      "model_module": "@jupyter-widgets/base",
      "model_module_version": "1.1.0",
      "model_name": "LayoutModel",
      "state": {}
     },
     "9a99e468545d4ed1806865bae5c74394": {
      "model_module": "@jupyter-widgets/controls",
      "model_module_version": "1.4.0",
      "model_name": "ButtonStyleModel",
      "state": {}
     },
     "9af20119977047b3932810a8e280bf85": {
      "model_module": "@jupyter-widgets/base",
      "model_module_version": "1.1.0",
      "model_name": "LayoutModel",
      "state": {}
     },
     "a4fedda9448a480fb0c1671b27ac651c": {
      "model_module": "@jupyter-widgets/controls",
      "model_module_version": "1.4.0",
      "model_name": "DescriptionStyleModel",
      "state": {
       "description_width": ""
      }
     },
     "ad8868481f614224a1f65768d44d1875": {
      "model_module": "@jupyter-widgets/controls",
      "model_module_version": "1.4.0",
      "model_name": "ButtonModel",
      "state": {
       "button_style": "success",
       "description": "Run",
       "layout": "IPY_MODEL_582e6d2bb91a4868b3bfed7dd497ba38",
       "style": "IPY_MODEL_9a99e468545d4ed1806865bae5c74394"
      }
     },
     "b816bad8ce8c4f4aa4804115638c4f0b": {
      "model_module": "@jupyter-widgets/base",
      "model_module_version": "1.1.0",
      "model_name": "LayoutModel",
      "state": {}
     },
     "bb74cf6f694343fba84bbc1de7073bdb": {
      "model_module": "@jupyter-widgets/controls",
      "model_module_version": "1.4.0",
      "model_name": "VBoxModel",
      "state": {
       "children": [
        "IPY_MODEL_33707a96e0a3458f89ecce4ebab3c540",
        "IPY_MODEL_7e7ffb5bca544c41a82af3e74bacae10"
       ],
       "layout": "IPY_MODEL_2191d7e8459f4afc91dc0f51a932116c"
      }
     },
     "c4542ed478d246369426f278d06029b8": {
      "model_module": "@jupyter-widgets/controls",
      "model_module_version": "1.4.0",
      "model_name": "TextModel",
      "state": {
       "layout": "IPY_MODEL_b816bad8ce8c4f4aa4804115638c4f0b",
       "style": "IPY_MODEL_a4fedda9448a480fb0c1671b27ac651c",
       "value": "foo"
      }
     },
     "caf6180f6f5843f6912ad799f0d8da35": {
      "model_module": "@jupyter-widgets/controls",
      "model_module_version": "1.4.0",
      "model_name": "ButtonStyleModel",
      "state": {}
     },
     "d414734e9a954208ba92aa1ecf9e13ce": {
      "model_module": "@jupyter-widgets/controls",
      "model_module_version": "1.4.0",
      "model_name": "DescriptionStyleModel",
      "state": {
       "description_width": ""
      }
     },
     "d64fb4b6a2d542dc8d76cfd833da1d98": {
      "model_module": "@jupyter-widgets/controls",
      "model_module_version": "1.4.0",
      "model_name": "DescriptionStyleModel",
      "state": {
       "description_width": ""
      }
     },
     "d9f8411df771498aaf34fd1fdcdef641": {
      "model_module": "@jupyter-widgets/controls",
      "model_module_version": "1.4.0",
      "model_name": "VBoxModel",
      "state": {
       "children": [
        "IPY_MODEL_1c5682c3e0544164813c5d73c48771b4",
        "IPY_MODEL_92c31db46f594d1ea2ffd96fe4a90301"
       ],
       "layout": "IPY_MODEL_9af20119977047b3932810a8e280bf85"
      }
     },
     "db0642c5235d43d28a88e515c5a401cd": {
      "model_module": "@jupyter-widgets/controls",
      "model_module_version": "1.4.0",
      "model_name": "ButtonStyleModel",
      "state": {}
     },
     "e53a99b774274a1d8aaf45f6bf330a64": {
      "model_module": "@jupyter-widgets/base",
      "model_module_version": "1.1.0",
      "model_name": "LayoutModel",
      "state": {}
     },
     "e6ee86469aa6441da927a5ea07afec31": {
      "model_module": "@jupyter-widgets/base",
      "model_module_version": "1.1.0",
      "model_name": "LayoutModel",
      "state": {}
     },
     "e9959b5d1be3419da566176c5771b1e0": {
      "model_module": "@jupyter-widgets/controls",
      "model_module_version": "1.4.0",
      "model_name": "VBoxModel",
      "state": {
       "children": [
        "IPY_MODEL_782723d73e2a4e7582200bb3eaccaf00",
        "IPY_MODEL_36ad6ea4986947559fd78aeade4e0204"
       ],
       "layout": "IPY_MODEL_3763f654da434ff68e5bab2708e19fde"
      }
     },
     "f965504a05ee4ae8be16396b1728e417": {
      "model_module": "@jupyter-widgets/controls",
      "model_module_version": "1.4.0",
      "model_name": "VBoxModel",
      "state": {
       "children": [
        "IPY_MODEL_215541f80bab41cf960880cd54336571",
        "IPY_MODEL_ad8868481f614224a1f65768d44d1875"
       ],
       "layout": "IPY_MODEL_18e12e81064148e5918d67982a89fad4"
      }
     },
     "fb2f2fde7819414a96cdc6c6f67ef0d1": {
      "model_module": "@jupyter-widgets/controls",
      "model_module_version": "1.4.0",
      "model_name": "DescriptionStyleModel",
      "state": {
       "description_width": ""
      }
     },
     "fbdac1a78b4146639a33ccb402ae3393": {
      "model_module": "@jupyter-widgets/controls",
      "model_module_version": "1.4.0",
      "model_name": "ButtonModel",
      "state": {
       "button_style": "success",
       "description": "Run",
       "layout": "IPY_MODEL_35019a24c4c1427282f4e03f2db64bc1",
       "style": "IPY_MODEL_6f5c6a67af384f8f8c6ef39a6a72056e"
      }
     }
    },
    "version_major": 2,
    "version_minor": 0
   }
  }
 },
 "nbformat": 4,
 "nbformat_minor": 2
}
