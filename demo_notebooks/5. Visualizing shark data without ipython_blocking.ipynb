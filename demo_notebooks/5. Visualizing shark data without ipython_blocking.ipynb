{
 "cells": [
  {
   "cell_type": "markdown",
   "metadata": {},
   "source": [
    "Running this notebook will read in demo shark data and then create a widget that displays information and mapping locations for a specific shark."
   ]
  },
  {
   "cell_type": "code",
   "execution_count": null,
   "metadata": {
    "ExecuteTime": {
     "end_time": "2019-06-05T15:18:05.580728Z",
     "start_time": "2019-06-05T15:17:56.308473Z"
    }
   },
   "outputs": [],
   "source": [
    "!pip install pandas ipyleaflet -q"
   ]
  },
  {
   "cell_type": "code",
   "execution_count": null,
   "metadata": {
    "ExecuteTime": {
     "end_time": "2019-06-05T15:18:26.446548Z",
     "start_time": "2019-06-05T15:18:25.988921Z"
    }
   },
   "outputs": [],
   "source": [
    "import pandas as pd\n",
    "import ipywidgets as widgets\n",
    "from ipyleaflet import Map, Marker, MarkerCluster\n",
    "\n",
    "df = pd.read_csv('data/sharks_cleaned.csv')\n",
    "df.shape"
   ]
  },
  {
   "cell_type": "code",
   "execution_count": null,
   "metadata": {
    "ExecuteTime": {
     "end_time": "2019-06-05T15:18:30.848633Z",
     "start_time": "2019-06-05T15:18:30.705832Z"
    },
    "scrolled": true
   },
   "outputs": [],
   "source": [
    "counts = df.name.value_counts().to_dict()\n",
    "names = {'' : ''}\n",
    "for name, count in counts.items():\n",
    "    visible_name = '%s (%s)' % (name, count)\n",
    "    names[visible_name] = name\n",
    "    \n",
    "choices = widgets.Dropdown(options=names)\n",
    "info = widgets.HTML()\n",
    "m = Map()\n",
    "m.shark_layer = None\n",
    "\n",
    "def on_select(event):\n",
    "    ### filter df data\n",
    "    name = event.owner.value\n",
    "    matches = df[df.name == name]\n",
    "    ### Pull out basic info\n",
    "    info.value = ''\n",
    "    info.value += 'Name: %s<br/>' % name\n",
    "    info.value += 'Gender: %s<br/>' % matches.iloc[0].gender\n",
    "    info.value += 'N Hits: %s<br/>' % len(matches)\n",
    "    info.value += 'First/last seen: %s - %s' % (matches.datetime.min(), matches.datetime.max())\n",
    "    ### render map\n",
    "    if m.shark_layer is not None:\n",
    "        m.remove_layer(m.shark_layer)\n",
    "        \n",
    "    m.center = (matches.latitude.mean(), matches.longitude.mean())\n",
    "    markers = []\n",
    "    for row in matches.itertuples():\n",
    "        marker = Marker(location=(row.latitude, row.longitude), draggable=False)\n",
    "        markers.append(marker)\n",
    "    cluster = MarkerCluster(markers=markers)\n",
    "    m.add_layer(cluster)\n",
    "    m.shark_layer = cluster\n",
    "      \n",
    "    \n",
    "choices.observe(on_select, names='value')\n",
    "\n",
    "box = widgets.VBox(children=[choices, info, m])\n",
    "box"
   ]
  },
  {
   "cell_type": "code",
   "execution_count": null,
   "metadata": {},
   "outputs": [],
   "source": []
  },
  {
   "cell_type": "code",
   "execution_count": null,
   "metadata": {},
   "outputs": [],
   "source": []
  }
 ],
 "metadata": {
  "kernelspec": {
   "display_name": "Python 3",
   "language": "python",
   "name": "python3"
  },
  "language_info": {
   "codemirror_mode": {
    "name": "ipython",
    "version": 3
   },
   "file_extension": ".py",
   "mimetype": "text/x-python",
   "name": "python",
   "nbconvert_exporter": "python",
   "pygments_lexer": "ipython3",
   "version": "3.6.6"
  },
  "toc": {
   "base_numbering": 1,
   "nav_menu": {},
   "number_sections": true,
   "sideBar": true,
   "skip_h1_title": false,
   "title_cell": "Table of Contents",
   "title_sidebar": "Contents",
   "toc_cell": false,
   "toc_position": {},
   "toc_section_display": true,
   "toc_window_display": false
  }
 },
 "nbformat": 4,
 "nbformat_minor": 2
}
