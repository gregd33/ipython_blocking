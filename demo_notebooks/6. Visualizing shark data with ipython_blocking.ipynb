{
 "cells": [
  {
   "cell_type": "markdown",
   "metadata": {},
   "source": [
    "Running this notebook will read in demo shark data and then create a widget that displays information and mapping locations for a specific shark."
   ]
  },
  {
   "cell_type": "code",
   "execution_count": null,
   "metadata": {
    "ExecuteTime": {
     "end_time": "2019-06-05T15:18:05.580728Z",
     "start_time": "2019-06-05T15:17:56.308473Z"
    }
   },
   "outputs": [],
   "source": [
    "!pip install pandas ipyleaflet -q"
   ]
  },
  {
   "cell_type": "code",
   "execution_count": null,
   "metadata": {
    "ExecuteTime": {
     "end_time": "2019-06-05T15:23:09.130693Z",
     "start_time": "2019-06-05T15:23:09.115326Z"
    }
   },
   "outputs": [],
   "source": [
    "# sys.path hack to make /demo_notebooks import from /ipython_blocking in Binder\n",
    "import os\n",
    "import sys\n",
    "module_path = os.path.abspath(os.path.join('..'))\n",
    "if module_path not in sys.path:\n",
    "    sys.path.append(module_path)\n",
    "import ipython_blocking"
   ]
  },
  {
   "cell_type": "code",
   "execution_count": null,
   "metadata": {
    "ExecuteTime": {
     "end_time": "2019-06-05T15:23:11.523558Z",
     "start_time": "2019-06-05T15:23:09.392914Z"
    }
   },
   "outputs": [],
   "source": [
    "import pandas as pd\n",
    "import ipywidgets as widgets\n",
    "from ipyleaflet import Map, Marker, MarkerCluster\n",
    "\n",
    "df = pd.read_csv('data/sharks_cleaned.csv')\n",
    "df.shape"
   ]
  },
  {
   "cell_type": "code",
   "execution_count": null,
   "metadata": {
    "ExecuteTime": {
     "end_time": "2019-06-05T15:23:18.689157Z",
     "start_time": "2019-06-05T15:23:18.595750Z"
    }
   },
   "outputs": [],
   "source": [
    "counts = df.name.value_counts().to_dict()\n",
    "names = {'' : ''}\n",
    "for name, count in counts.items():\n",
    "    visible_name = '%s (%s)' % (name, count)\n",
    "    names[visible_name] = name\n",
    "    \n",
    "choices = widgets.Dropdown(options=names)\n",
    "run = widgets.Button(description='Run')\n",
    "box = widgets.VBox([choices, run])\n",
    "box"
   ]
  },
  {
   "cell_type": "code",
   "execution_count": null,
   "metadata": {
    "ExecuteTime": {
     "end_time": "2019-06-05T15:25:57.597857Z",
     "start_time": "2019-06-05T15:25:57.587407Z"
    }
   },
   "outputs": [],
   "source": [
    "%blockrun run"
   ]
  },
  {
   "cell_type": "code",
   "execution_count": null,
   "metadata": {
    "ExecuteTime": {
     "end_time": "2019-06-05T15:25:57.639026Z",
     "start_time": "2019-06-05T15:25:57.602347Z"
    }
   },
   "outputs": [],
   "source": [
    "name = choices.value\n",
    "name"
   ]
  },
  {
   "cell_type": "code",
   "execution_count": null,
   "metadata": {
    "ExecuteTime": {
     "end_time": "2019-06-05T15:25:57.675409Z",
     "start_time": "2019-06-05T15:25:57.644031Z"
    }
   },
   "outputs": [],
   "source": [
    "matches = df[df.name == name]\n",
    "matches.shape"
   ]
  },
  {
   "cell_type": "code",
   "execution_count": null,
   "metadata": {
    "ExecuteTime": {
     "end_time": "2019-06-05T15:25:57.743048Z",
     "start_time": "2019-06-05T15:25:57.679624Z"
    }
   },
   "outputs": [],
   "source": [
    "matches.head()"
   ]
  },
  {
   "cell_type": "code",
   "execution_count": null,
   "metadata": {
    "ExecuteTime": {
     "end_time": "2019-06-05T15:25:57.767858Z",
     "start_time": "2019-06-05T15:25:57.754993Z"
    }
   },
   "outputs": [],
   "source": [
    "gender = matches.iloc[0].gender\n",
    "gender"
   ]
  },
  {
   "cell_type": "code",
   "execution_count": null,
   "metadata": {
    "ExecuteTime": {
     "end_time": "2019-06-05T15:25:57.795023Z",
     "start_time": "2019-06-05T15:25:57.773395Z"
    }
   },
   "outputs": [],
   "source": [
    "matches.datetime.min(), matches.datetime.max()"
   ]
  },
  {
   "cell_type": "code",
   "execution_count": null,
   "metadata": {
    "ExecuteTime": {
     "start_time": "2019-06-05T15:25:57.644Z"
    }
   },
   "outputs": [],
   "source": [
    "m = Map(zoom=4, center=(matches.latitude.mean(), matches.longitude.mean()))\n",
    "markers = []\n",
    "for row in matches.itertuples():\n",
    "    marker = Marker(location=(row.latitude, row.longitude), draggable=False)\n",
    "    markers.append(marker)\n",
    "cluster = MarkerCluster(markers=markers)\n",
    "m.add_layer(cluster)\n",
    "m"
   ]
  },
  {
   "cell_type": "code",
   "execution_count": null,
   "metadata": {},
   "outputs": [],
   "source": []
  },
  {
   "cell_type": "code",
   "execution_count": null,
   "metadata": {},
   "outputs": [],
   "source": []
  }
 ],
 "metadata": {
  "kernelspec": {
   "display_name": "Python 3",
   "language": "python",
   "name": "python3"
  },
  "language_info": {
   "codemirror_mode": {
    "name": "ipython",
    "version": 3
   },
   "file_extension": ".py",
   "mimetype": "text/x-python",
   "name": "python",
   "nbconvert_exporter": "python",
   "pygments_lexer": "ipython3",
   "version": "3.6.6"
  },
  "toc": {
   "base_numbering": 1,
   "nav_menu": {},
   "number_sections": true,
   "sideBar": true,
   "skip_h1_title": false,
   "title_cell": "Table of Contents",
   "title_sidebar": "Contents",
   "toc_cell": false,
   "toc_position": {},
   "toc_section_display": true,
   "toc_window_display": false
  }
 },
 "nbformat": 4,
 "nbformat_minor": 2
}
