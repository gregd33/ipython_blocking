{
 "cells": [
  {
   "cell_type": "markdown",
   "metadata": {},
   "source": [
    "`%blockrun` is the most common way to use `ipython_blocking`, but `%block` or even the `ipython_blocking.CaptureExecution` context can be useful on their own as well, especially if the nature of the notebook is to just have a single run."
   ]
  },
  {
   "cell_type": "code",
   "execution_count": null,
   "metadata": {
    "ExecuteTime": {
     "end_time": "2019-04-13T14:34:17.204747Z",
     "start_time": "2019-04-13T14:34:17.200846Z"
    }
   },
   "outputs": [],
   "source": [
    "# sys.path hack to make /demo_notebooks import from /ipython_blocking in Binder\n",
    "import os\n",
    "import sys\n",
    "module_path = os.path.abspath(os.path.join('..'))\n",
    "if module_path not in sys.path:\n",
    "    sys.path.append(module_path)"
   ]
  },
  {
   "cell_type": "code",
   "execution_count": null,
   "metadata": {
    "ExecuteTime": {
     "end_time": "2019-04-13T14:34:17.402298Z",
     "start_time": "2019-04-13T14:34:17.383754Z"
    }
   },
   "outputs": [],
   "source": [
    "import ipywidgets as widgets\n",
    "import ipython_blocking"
   ]
  },
  {
   "cell_type": "markdown",
   "metadata": {},
   "source": [
    "For the first example, `%block` will stop new cell execution until a dropdown value has been selected"
   ]
  },
  {
   "cell_type": "code",
   "execution_count": null,
   "metadata": {
    "ExecuteTime": {
     "end_time": "2019-04-13T14:34:17.754510Z",
     "start_time": "2019-04-13T14:34:17.744757Z"
    }
   },
   "outputs": [],
   "source": [
    "dropdown = widgets.Dropdown(options=['', 'foo', 'bar', 'baz'])\n",
    "dropdown"
   ]
  },
  {
   "cell_type": "code",
   "execution_count": null,
   "metadata": {
    "ExecuteTime": {
     "end_time": "2019-04-13T14:34:41.066726Z",
     "start_time": "2019-04-13T14:34:18.065771Z"
    }
   },
   "outputs": [],
   "source": [
    "%block dropdown"
   ]
  },
  {
   "cell_type": "code",
   "execution_count": null,
   "metadata": {
    "ExecuteTime": {
     "end_time": "2019-04-13T14:34:40.976849Z",
     "start_time": "2019-04-13T14:34:40.969045Z"
    }
   },
   "outputs": [],
   "source": [
    "print(\"this should be blocked until a value is selected in the dropdown widget\")"
   ]
  },
  {
   "cell_type": "code",
   "execution_count": null,
   "metadata": {
    "ExecuteTime": {
     "end_time": "2019-04-13T14:34:41.064778Z",
     "start_time": "2019-04-13T14:34:40.976849Z"
    }
   },
   "outputs": [],
   "source": [
    "print(dropdown.value)"
   ]
  },
  {
   "cell_type": "markdown",
   "metadata": {},
   "source": [
    "`%block` can also accept any function, it will \"stop blocking\" when the function returns True"
   ]
  },
  {
   "cell_type": "code",
   "execution_count": null,
   "metadata": {
    "ExecuteTime": {
     "end_time": "2019-04-13T14:35:42.649839Z",
     "start_time": "2019-04-13T14:35:42.641061Z"
    }
   },
   "outputs": [],
   "source": [
    "text = widgets.Text(description=\"Input here: \")\n",
    "text"
   ]
  },
  {
   "cell_type": "code",
   "execution_count": null,
   "metadata": {
    "ExecuteTime": {
     "end_time": "2019-04-13T14:37:19.347811Z",
     "start_time": "2019-04-13T14:37:19.343909Z"
    }
   },
   "outputs": [],
   "source": [
    "def blocker_func():\n",
    "    return len(text.value) > 3"
   ]
  },
  {
   "cell_type": "code",
   "execution_count": null,
   "metadata": {
    "ExecuteTime": {
     "end_time": "2019-04-13T14:37:33.299792Z",
     "start_time": "2019-04-13T14:37:22.879280Z"
    }
   },
   "outputs": [],
   "source": [
    "%block blocker_func"
   ]
  },
  {
   "cell_type": "code",
   "execution_count": null,
   "metadata": {
    "ExecuteTime": {
     "end_time": "2019-04-13T14:37:33.169270Z",
     "start_time": "2019-04-13T14:37:33.165367Z"
    }
   },
   "outputs": [],
   "source": [
    "print('test')"
   ]
  },
  {
   "cell_type": "code",
   "execution_count": null,
   "metadata": {
    "ExecuteTime": {
     "end_time": "2019-04-13T14:37:33.296867Z",
     "start_time": "2019-04-13T14:37:33.169270Z"
    }
   },
   "outputs": [],
   "source": [
    "print(text.value)"
   ]
  },
  {
   "cell_type": "code",
   "execution_count": null,
   "metadata": {},
   "outputs": [],
   "source": []
  }
 ],
 "metadata": {
  "kernelspec": {
   "display_name": "Python3.6",
   "language": "python",
   "name": "py36"
  },
  "language_info": {
   "codemirror_mode": {
    "name": "ipython",
    "version": 3
   },
   "file_extension": ".py",
   "mimetype": "text/x-python",
   "name": "python",
   "nbconvert_exporter": "python",
   "pygments_lexer": "ipython3",
   "version": "3.7.2"
  },
  "toc": {
   "base_numbering": 1,
   "nav_menu": {},
   "number_sections": true,
   "sideBar": true,
   "skip_h1_title": false,
   "title_cell": "Table of Contents",
   "title_sidebar": "Contents",
   "toc_cell": false,
   "toc_position": {},
   "toc_section_display": true,
   "toc_window_display": false
  }
 },
 "nbformat": 4,
 "nbformat_minor": 2
}
