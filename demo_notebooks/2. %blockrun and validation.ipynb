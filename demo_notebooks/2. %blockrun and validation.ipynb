{
 "cells": [
  {
   "cell_type": "markdown",
   "metadata": {},
   "source": [
    "Building on the basic `%blockrun` example, this notebook demonstrates another common technique to use with `ipython_blocking`: don't make the `ipywidgets.Button` clickable until user input validation has occurred.\n",
    "\n",
    "In the example below, the `Run` Button won't be clickable until an option from the dropdown is selected and the Text box has some value that's more than 3 characters long.  Once those criteria are met, then clicking the `Run` Button will effectively execute a `cell -> run all below` action."
   ]
  },
  {
   "cell_type": "code",
   "execution_count": null,
   "metadata": {
    "ExecuteTime": {
     "end_time": "2019-04-13T14:23:57.235798Z",
     "start_time": "2019-04-13T14:23:57.231895Z"
    }
   },
   "outputs": [],
   "source": [
    "# sys.path hack to make /demo_notebooks import from /ipython_blocking in Binder\n",
    "import os\n",
    "import sys\n",
    "module_path = os.path.abspath(os.path.join('..'))\n",
    "if module_path not in sys.path:\n",
    "    sys.path.append(module_path)"
   ]
  },
  {
   "cell_type": "code",
   "execution_count": null,
   "metadata": {
    "ExecuteTime": {
     "end_time": "2019-04-13T14:23:57.344316Z",
     "start_time": "2019-04-13T14:23:57.236773Z"
    }
   },
   "outputs": [],
   "source": [
    "import ipywidgets as widgets\n",
    "import ipython_blocking"
   ]
  },
  {
   "cell_type": "code",
   "execution_count": null,
   "metadata": {
    "ExecuteTime": {
     "end_time": "2019-04-13T14:23:57.483051Z",
     "start_time": "2019-04-13T14:23:57.345295Z"
    }
   },
   "outputs": [],
   "source": [
    "text = widgets.Text()\n",
    "dropdown = widgets.Dropdown(options=['', 'foo', 'bar', 'baz'])\n",
    "run = widgets.Button(description='Run', button_style='danger', disabled=True)\n",
    "box = widgets.VBox(children=[text, dropdown, run])\n",
    "\n",
    "def validation(ev):\n",
    "    if len(text.value) > 3 and dropdown.value:\n",
    "        run.disabled = False\n",
    "        run.button_style = 'success'\n",
    "    else:\n",
    "        run.disabled = True\n",
    "        run.button_style = 'danger'\n",
    "        \n",
    "text.observe(validation)\n",
    "dropdown.observe(validation)\n",
    "box"
   ]
  },
  {
   "cell_type": "code",
   "execution_count": null,
   "metadata": {
    "ExecuteTime": {
     "end_time": "2019-04-13T14:24:16.933024Z",
     "start_time": "2019-04-13T14:24:16.929123Z"
    }
   },
   "outputs": [],
   "source": [
    "%blockrun run"
   ]
  },
  {
   "cell_type": "code",
   "execution_count": null,
   "metadata": {
    "ExecuteTime": {
     "end_time": "2019-04-13T14:24:17.022935Z",
     "start_time": "2019-04-13T14:24:16.933999Z"
    }
   },
   "outputs": [],
   "source": [
    "print(text.value)"
   ]
  },
  {
   "cell_type": "code",
   "execution_count": null,
   "metadata": {
    "ExecuteTime": {
     "end_time": "2019-04-13T14:24:17.115726Z",
     "start_time": "2019-04-13T14:24:17.023898Z"
    }
   },
   "outputs": [],
   "source": [
    "print(dropdown.value)"
   ]
  },
  {
   "cell_type": "code",
   "execution_count": null,
   "metadata": {},
   "outputs": [],
   "source": []
  }
 ],
 "metadata": {
  "kernelspec": {
   "display_name": "Python3.6",
   "language": "python",
   "name": "py36"
  },
  "language_info": {
   "codemirror_mode": {
    "name": "ipython",
    "version": 3
   },
   "file_extension": ".py",
   "mimetype": "text/x-python",
   "name": "python",
   "nbconvert_exporter": "python",
   "pygments_lexer": "ipython3",
   "version": "3.7.2"
  },
  "toc": {
   "base_numbering": 1,
   "nav_menu": {},
   "number_sections": true,
   "sideBar": true,
   "skip_h1_title": false,
   "title_cell": "Table of Contents",
   "title_sidebar": "Contents",
   "toc_cell": false,
   "toc_position": {},
   "toc_section_display": true,
   "toc_window_display": false
  },
  "widgets": {
   "application/vnd.jupyter.widget-state+json": {
    "state": {
     "118ef696084f48f6b3efa249901509f8": {
      "model_module": "@jupyter-widgets/controls",
      "model_module_version": "1.4.0",
      "model_name": "TextModel",
      "state": {
       "layout": "IPY_MODEL_fa8bf47178d04405aaea2251c35481f7",
       "style": "IPY_MODEL_cfaa7230c3e148f383edf155f420d73c",
       "value": "abcdef"
      }
     },
     "2ebf47c047b648768e9cf081a2bdb47d": {
      "model_module": "@jupyter-widgets/controls",
      "model_module_version": "1.4.0",
      "model_name": "DescriptionStyleModel",
      "state": {
       "description_width": ""
      }
     },
     "44c7df9527bc4d36806d0dff18ccb89f": {
      "model_module": "@jupyter-widgets/controls",
      "model_module_version": "1.4.0",
      "model_name": "ButtonStyleModel",
      "state": {}
     },
     "5b0ac741509548e1a3641dca3f78b5ab": {
      "model_module": "@jupyter-widgets/controls",
      "model_module_version": "1.4.0",
      "model_name": "ButtonModel",
      "state": {
       "button_style": "success",
       "description": "Run",
       "layout": "IPY_MODEL_6f28ef3d56e64d689edf0718b6557591",
       "style": "IPY_MODEL_44c7df9527bc4d36806d0dff18ccb89f"
      }
     },
     "6f28ef3d56e64d689edf0718b6557591": {
      "model_module": "@jupyter-widgets/base",
      "model_module_version": "1.1.0",
      "model_name": "LayoutModel",
      "state": {}
     },
     "80d322b6559047159e708162af5cffc6": {
      "model_module": "@jupyter-widgets/controls",
      "model_module_version": "1.4.0",
      "model_name": "DropdownModel",
      "state": {
       "_options_labels": [
        "",
        "foo",
        "bar",
        "baz"
       ],
       "index": 1,
       "layout": "IPY_MODEL_eeb2d0230952470eaf80f40e185871c3",
       "style": "IPY_MODEL_2ebf47c047b648768e9cf081a2bdb47d"
      }
     },
     "b13804d0adb54ac1be12ed54b05476d1": {
      "model_module": "@jupyter-widgets/base",
      "model_module_version": "1.1.0",
      "model_name": "LayoutModel",
      "state": {}
     },
     "cfaa7230c3e148f383edf155f420d73c": {
      "model_module": "@jupyter-widgets/controls",
      "model_module_version": "1.4.0",
      "model_name": "DescriptionStyleModel",
      "state": {
       "description_width": ""
      }
     },
     "e1d3fa70cb424b6aa18af3262a4d53f5": {
      "model_module": "@jupyter-widgets/controls",
      "model_module_version": "1.4.0",
      "model_name": "VBoxModel",
      "state": {
       "children": [
        "IPY_MODEL_118ef696084f48f6b3efa249901509f8",
        "IPY_MODEL_80d322b6559047159e708162af5cffc6",
        "IPY_MODEL_5b0ac741509548e1a3641dca3f78b5ab"
       ],
       "layout": "IPY_MODEL_b13804d0adb54ac1be12ed54b05476d1"
      }
     },
     "eeb2d0230952470eaf80f40e185871c3": {
      "model_module": "@jupyter-widgets/base",
      "model_module_version": "1.1.0",
      "model_name": "LayoutModel",
      "state": {}
     },
     "fa8bf47178d04405aaea2251c35481f7": {
      "model_module": "@jupyter-widgets/base",
      "model_module_version": "1.1.0",
      "model_name": "LayoutModel",
      "state": {}
     }
    },
    "version_major": 2,
    "version_minor": 0
   }
  }
 },
 "nbformat": 4,
 "nbformat_minor": 2
}
